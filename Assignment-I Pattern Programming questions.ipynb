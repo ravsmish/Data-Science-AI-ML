{
 "cells": [
  {
   "cell_type": "markdown",
   "id": "bec1a7d4",
   "metadata": {},
   "source": [
    "### Registration id - SIRSS1157\n",
    "### Name - Ravi Kumar Mishra\n",
    "### College name - \n",
    "### Subject - Python Pattern Assignment 1"
   ]
  },
  {
   "cell_type": "code",
   "execution_count": 16,
   "id": "9f464432",
   "metadata": {},
   "outputs": [
    {
     "name": "stdout",
     "output_type": "stream",
     "text": [
      "5 5 5 5 5 \n",
      "5 5 5 5 \n",
      "5 5 5 \n",
      "5 5 \n",
      "5 \n"
     ]
    }
   ],
   "source": [
    "#Question 1\n",
    "for i in range(5,0,-1):\n",
    "    print('5 '*i )\n",
    "    "
   ]
  },
  {
   "cell_type": "code",
   "execution_count": 15,
   "id": "d32bc3eb",
   "metadata": {},
   "outputs": [
    {
     "name": "stdout",
     "output_type": "stream",
     "text": [
      "0 1 2 3 4 5 \n",
      "0 1 2 3 4 \n",
      "0 1 2 3 \n",
      "0 1 2 \n",
      "0 1 \n"
     ]
    }
   ],
   "source": [
    "#Question 2\n",
    "for i in range(5,0,-1):\n",
    "    for j in range(i+1):\n",
    "        print(j, end=\" \")\n",
    "    print()"
   ]
  },
  {
   "cell_type": "code",
   "execution_count": 55,
   "id": "7a9ef621",
   "metadata": {},
   "outputs": [
    {
     "name": "stdout",
     "output_type": "stream",
     "text": [
      "1 \n",
      "3 3 \n",
      "5 5 5 \n",
      "7 7 7 7 \n",
      "9 9 9 9 9 \n"
     ]
    }
   ],
   "source": [
    "#Question 3\n",
    "for i in range(1,10,2):\n",
    "    for j in range(0,i,2):\n",
    "        print(str(i), end=\" \")\n",
    "    print()\n",
    "    "
   ]
  },
  {
   "cell_type": "code",
   "execution_count": 60,
   "id": "5f12c0cd",
   "metadata": {},
   "outputs": [
    {
     "name": "stdout",
     "output_type": "stream",
     "text": [
      "1 \n",
      "2 1 \n",
      "3 2 1 \n",
      "4 3 2 1 \n",
      "5 4 3 2 1 \n"
     ]
    }
   ],
   "source": [
    "#Question 4\n",
    "for i in range(1,6):\n",
    "    for j in range(i,0,-1):\n",
    "        print(j, end=\" \")\n",
    "    print()"
   ]
  },
  {
   "cell_type": "code",
   "execution_count": 105,
   "id": "f0022ddd",
   "metadata": {},
   "outputs": [
    {
     "name": "stdout",
     "output_type": "stream",
     "text": [
      "1\n",
      "3 2 \n",
      "6 5 4 \n",
      "10 9 8 7 \n"
     ]
    }
   ],
   "source": [
    "#Question 5\n",
    "a=1\n",
    "b=0\n",
    "for i in range(1,5):\n",
    "    if i==1:\n",
    "        print(1, end=\"\")\n",
    "    else:\n",
    "        b=a+i\n",
    "        for j in range(b,a,-1):\n",
    "            print(j+1, end=\" \")\n",
    "    a=b\n",
    "    print()"
   ]
  },
  {
   "cell_type": "code",
   "execution_count": 112,
   "id": "95400428",
   "metadata": {},
   "outputs": [
    {
     "name": "stdout",
     "output_type": "stream",
     "text": [
      "1\n",
      "11\n",
      "121\n",
      "1331\n",
      "14641\n",
      "161051\n",
      "1771561\n"
     ]
    }
   ],
   "source": [
    "#Question 6 Incomplete\n",
    "for i in range(1,8):\n",
    "   \n"
   ]
  },
  {
   "cell_type": "code",
   "execution_count": 149,
   "id": "83eb3e2c",
   "metadata": {},
   "outputs": [
    {
     "name": "stdout",
     "output_type": "stream",
     "text": [
      "Enter a Number ; 6\n",
      "1 2 3 4 5 \n",
      "2 2 3 4 5 \n",
      "3 3 3 4 5 \n",
      "4 4 4 4 5 \n",
      "5 5 5 5 5 \n"
     ]
    }
   ],
   "source": [
    "#Question 7\n",
    "n=int(input(\"Enter a Number ; \"))\n",
    "for i in range(1,n):\n",
    "    print((str(i)+' ')*i,end=\"\")\n",
    "    for j in range(i+1,n):\n",
    "        print(j, end=\" \")\n",
    "    print()"
   ]
  },
  {
   "cell_type": "code",
   "execution_count": 153,
   "id": "e9605743",
   "metadata": {},
   "outputs": [
    {
     "name": "stdout",
     "output_type": "stream",
     "text": [
      "Enter a Number ; 9\n",
      "1 \n",
      "2 4 \n",
      "3 6 9 \n",
      "4 8 12 16 \n",
      "5 10 15 20 25 \n",
      "6 12 18 24 30 36 \n",
      "7 14 21 28 35 42 49 \n",
      "8 16 24 32 40 48 56 64 \n"
     ]
    }
   ],
   "source": [
    "#Question 8\n",
    "n=int(input(\"Enter a Number ; \"))\n",
    "for i in range(1,n):\n",
    "    for j in range(1,i+1):\n",
    "        print(j*i, end=\" \")\n",
    "    print()"
   ]
  },
  {
   "cell_type": "code",
   "execution_count": 166,
   "id": "a5546039",
   "metadata": {},
   "outputs": [
    {
     "name": "stdout",
     "output_type": "stream",
     "text": [
      "Enter a Number : 9\n",
      "         * * * * * * * * \n",
      "          * * * * * * * \n",
      "           * * * * * * \n",
      "            * * * * * \n",
      "             * * * * \n",
      "              * * * \n",
      "               * * \n",
      "                * \n"
     ]
    }
   ],
   "source": [
    "#Question 9\n",
    "n=int(input(\"Enter a Number : \"))\n",
    "for i in range(1,n):\n",
    "    for j in range(1,n+i):\n",
    "        print(' ', end=\"\")\n",
    "    print(\"* \"*(n-i),end=\"\")\n",
    "    print()  \n",
    "    "
   ]
  },
  {
   "cell_type": "code",
   "execution_count": 167,
   "id": "92d9e972",
   "metadata": {},
   "outputs": [
    {
     "name": "stdout",
     "output_type": "stream",
     "text": [
      "Enter a Number : 9\n",
      "         * \n",
      "        * * \n",
      "       * * * \n",
      "      * * * * \n",
      "     * * * * * \n",
      "    * * * * * * \n",
      "   * * * * * * * \n",
      "  * * * * * * * * \n"
     ]
    }
   ],
   "source": [
    "#Question 10\n",
    "n=int(input(\"Enter a Number : \"))\n",
    "for i in range(1,n):\n",
    "    for j in range(n,i-1,-1):\n",
    "        print(' ', end=\"\")\n",
    "    print(\"* \"*j,end=\"\")\n",
    "    print()  "
   ]
  },
  {
   "cell_type": "code",
   "execution_count": 206,
   "id": "82ba5ebe",
   "metadata": {},
   "outputs": [
    {
     "name": "stdout",
     "output_type": "stream",
     "text": [
      "Enter a Number : 5\n",
      "* \n",
      "* * \n",
      "* * * \n",
      "* * * * \n",
      "* * * * * \n",
      "\n",
      "* * * * * \n",
      "* * * * \n",
      "* * * \n",
      "* * \n",
      "* \n",
      "\n"
     ]
    }
   ],
   "source": [
    "#Question 11\n",
    "k=int(input(\"Enter a Number : \"))\n",
    "for i in range(1, k+1):\n",
    "    print(\"* \" * i)\n",
    "print()\n",
    "for j in range(k, 0, -1):\n",
    "    print(\"* \" * j)\n",
    "print()"
   ]
  },
  {
   "cell_type": "code",
   "execution_count": 210,
   "id": "ebe3db1f",
   "metadata": {},
   "outputs": [
    {
     "name": "stdout",
     "output_type": "stream",
     "text": [
      "Enter a Number : 7\n",
      "* \n",
      "* * \n",
      "* * * \n",
      "* * * * \n",
      "* * * * * \n",
      "* * * * * * \n",
      "* * * * * * * \n",
      "* * * * * * \n",
      "* * * * * \n",
      "* * * * \n",
      "* * * \n",
      "* * \n",
      "* \n",
      "\n"
     ]
    }
   ],
   "source": [
    "#Question 12\n",
    "k=int(input(\"Enter a Number : \"))\n",
    "for i in range(1, k+1):\n",
    "    print(\"* \" * i)\n",
    "for j in range(k-1, 0, -1):\n",
    "    print(\"* \" * j)\n",
    "print()\n",
    "    "
   ]
  },
  {
   "cell_type": "code",
   "execution_count": 223,
   "id": "e7d9d67b",
   "metadata": {},
   "outputs": [
    {
     "name": "stdout",
     "output_type": "stream",
     "text": [
      "Enter a Number : 5\n",
      "        * \n",
      "      * * \n",
      "    * * * \n",
      "  * * * * \n",
      "* * * * * \n",
      "  * * * * \n",
      "    * * * \n",
      "      * * \n",
      "        * \n",
      "\n"
     ]
    }
   ],
   "source": [
    "#Question 13\n",
    "k=int(input(\"Enter a Number : \"))\n",
    "for i in range(1, k+1):\n",
    "    for j in range(k,i, -1):\n",
    "        print(\" \",end=\" \")\n",
    "    print(\"* \" * i)\n",
    "for m in range(k-1, 0, -1):\n",
    "    for l in range(m,k):\n",
    "        print(\" \",end=\" \")\n",
    "    print(\"* \" * m)\n",
    "print()"
   ]
  },
  {
   "cell_type": "code",
   "execution_count": 229,
   "id": "830211a6",
   "metadata": {},
   "outputs": [
    {
     "name": "stdout",
     "output_type": "stream",
     "text": [
      "Enter a Number : 5\n",
      "* * * * * \n",
      " * * * * \n",
      "  * * * \n",
      "   * * \n",
      "    * \n",
      "    * \n",
      "   * * \n",
      "  * * * \n",
      " * * * * \n",
      "* * * * * \n",
      "\n"
     ]
    }
   ],
   "source": [
    "#Question 14\n",
    "k=int(input(\"Enter a Number : \"))\n",
    "for i in range(k,0,-1):\n",
    "    for j in range(i,k):\n",
    "        print(\" \",end=\"\")\n",
    "    print(\"* \" * i)\n",
    "for m in range(1, k+1):\n",
    "    for l in range(k+1,m+1, -1):\n",
    "        print(\" \",end=\"\")\n",
    "    print(\"* \" * m)\n",
    "print()"
   ]
  },
  {
   "cell_type": "code",
   "execution_count": 246,
   "id": "b30390cb",
   "metadata": {},
   "outputs": [
    {
     "name": "stdout",
     "output_type": "stream",
     "text": [
      "Enter a Number : 8\n",
      "****************\n",
      "*******__*******\n",
      "******____******\n",
      "*****______*****\n",
      "****________****\n",
      "***__________***\n",
      "**____________**\n",
      "*______________*\n"
     ]
    }
   ],
   "source": [
    "#Question 15\n",
    "k=int(input(\"Enter a Number : \"))\n",
    "for j in range(k,0,-1):\n",
    "    print(\"*\" * j,end=\"\")\n",
    "    for l in range(j,k):\n",
    "        print(\"__\",end=\"\")\n",
    "    print(\"*\" * j,end=\"\")\n",
    "    print()"
   ]
  }
 ],
 "metadata": {
  "kernelspec": {
   "display_name": "Python 3",
   "language": "python",
   "name": "python3"
  },
  "language_info": {
   "codemirror_mode": {
    "name": "ipython",
    "version": 3
   },
   "file_extension": ".py",
   "mimetype": "text/x-python",
   "name": "python",
   "nbconvert_exporter": "python",
   "pygments_lexer": "ipython3",
   "version": "3.8.8"
  }
 },
 "nbformat": 4,
 "nbformat_minor": 5
}
