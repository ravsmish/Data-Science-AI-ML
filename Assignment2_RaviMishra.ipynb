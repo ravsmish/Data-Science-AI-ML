{
 "cells": [
  {
   "cell_type": "code",
   "execution_count": 1,
   "id": "1f4c07b6",
   "metadata": {},
   "outputs": [
    {
     "name": "stdout",
     "output_type": "stream",
     "text": [
      "My Name is Ravi Mishra\n"
     ]
    },
    {
     "data": {
      "text/plain": [
       "'My'"
      ]
     },
     "execution_count": 1,
     "metadata": {},
     "output_type": "execute_result"
    }
   ],
   "source": [
    "#Ques :1\n",
    "a=lambda n: n.split()[0]\n",
    "n=input()\n",
    "a(n)\n"
   ]
  },
  {
   "cell_type": "code",
   "execution_count": 2,
   "id": "51218318",
   "metadata": {},
   "outputs": [
    {
     "name": "stdout",
     "output_type": "stream",
     "text": [
      "This is my style\n",
      "This\n"
     ]
    }
   ],
   "source": [
    "#Ques :2\n",
    "def firstword(n):\n",
    "    return n.split()[0]\n",
    "n=input()\n",
    "print(firstword(n))"
   ]
  },
  {
   "cell_type": "code",
   "execution_count": 3,
   "id": "eb996770",
   "metadata": {},
   "outputs": [
    {
     "data": {
      "text/plain": [
       "['Here', 'They', 'Mine', 'Right', 'Mongo', 'Fine']"
      ]
     },
     "execution_count": 3,
     "metadata": {},
     "output_type": "execute_result"
    }
   ],
   "source": [
    "#Ques :3\n",
    "def firstword(n):\n",
    "    return n.split()[0]\n",
    "list1=[\"Here is the sun\", \"They fight as well\", \"Mine scarf is red\", \n",
    "       \"Right things always better\", \"Mongo tree is best\", \"Fine Thank you\"]\n",
    "a=list(map(firstword,list1))\n",
    "a"
   ]
  },
  {
   "cell_type": "code",
   "execution_count": 4,
   "id": "09156bc9",
   "metadata": {},
   "outputs": [
    {
     "name": "stdout",
     "output_type": "stream",
     "text": [
      "4\n",
      "[1, 2]\n"
     ]
    }
   ],
   "source": [
    "#Ques :4\n",
    "def is_prime(n):\n",
    "    for i in range(2,int(n**(0.5))+1):\n",
    "        if n%i==0:\n",
    "            return 0\n",
    "    else:\n",
    "        return 1\n",
    "n=int(input())\n",
    "l=[1]\n",
    "for i in range(2,n+1):\n",
    "    if n%i==0:\n",
    "        if (is_prime(i)) ==1:\n",
    "            l.append(i)\n",
    "print(l)"
   ]
  },
  {
   "cell_type": "code",
   "execution_count": 10,
   "id": "9cce5b80",
   "metadata": {},
   "outputs": [
    {
     "name": "stdout",
     "output_type": "stream",
     "text": [
      "Enter the values of m : 5\n",
      "Enter number : 3\n",
      "Enter number : 5\n",
      "Enter number : 6\n",
      "Enter number : 8\n",
      "Enter number : 9\n",
      "[3, 5, 6, 8, 9]\n",
      "SecondLargest: 8\n"
     ]
    }
   ],
   "source": [
    "#Ques :5\n",
    "\n",
    "M = int(input(\"Enter the values of m : \"))\n",
    "L = [int(input(\"Enter number : \" ))  for i in range(0,M)]\n",
    "       \n",
    "def SecondLargest(lst):\n",
    "      Largest = None\n",
    "      SecondLargest = None\n",
    "      for a in lst:\n",
    "          if not Largest or a > Largest:\n",
    "               if Largest:\n",
    "                  SecondLargest = Largest\n",
    "               Largest = a\n",
    "\n",
    "      \n",
    "      print(\"SecondLargest: {}\".format(SecondLargest))\n",
    "\n",
    "\n",
    "print(L)\n",
    "SecondLargest(L)"
   ]
  }
 ],
 "metadata": {
  "kernelspec": {
   "display_name": "Python 3",
   "language": "python",
   "name": "python3"
  },
  "language_info": {
   "codemirror_mode": {
    "name": "ipython",
    "version": 3
   },
   "file_extension": ".py",
   "mimetype": "text/x-python",
   "name": "python",
   "nbconvert_exporter": "python",
   "pygments_lexer": "ipython3",
   "version": "3.8.8"
  }
 },
 "nbformat": 4,
 "nbformat_minor": 5
}
