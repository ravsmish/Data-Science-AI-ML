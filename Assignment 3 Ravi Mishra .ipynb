{
 "cells": [
  {
   "cell_type": "markdown",
   "id": "01e4070d",
   "metadata": {},
   "source": [
    "## Assignment 3 Regex"
   ]
  },
  {
   "cell_type": "code",
   "execution_count": 7,
   "id": "423a6c1f",
   "metadata": {},
   "outputs": [
    {
     "name": "stdout",
     "output_type": "stream",
     "text": [
      "Please Enter a no:4\n",
      "2\n"
     ]
    }
   ],
   "source": [
    "#Ques 1 Write a function to return nth term of Fibonacci sequence.\n",
    "n = int(input('Please Enter a no:'))\n",
    "def fun_fibonacci(n):\n",
    "    if n <= 0:\n",
    "        print('Please enter a positive Number!')\n",
    "    elif n == 1:\n",
    "        return 0\n",
    "    elif n == 2:\n",
    "        return 1\n",
    "    else:\n",
    "        return fun_fibonacci(n-1)+fun_fibonacci(n-2)\n",
    "print(fun_fibonacci(n))"
   ]
  },
  {
   "cell_type": "code",
   "execution_count": 12,
   "id": "c3d9d6dd",
   "metadata": {},
   "outputs": [
    {
     "name": "stdout",
     "output_type": "stream",
     "text": [
      "Enter first number12\n",
      "Enter second number24\n",
      "  The HCF of two number a and b is \n",
      "12\n"
     ]
    }
   ],
   "source": [
    "#Ques 2 Write a function to find out GCD of two numbers using EUCLID'S algorithm.\n",
    "a = int(input('Enter first number'))\n",
    "b = int(input('Enter second number'))\n",
    "def find_hcf(a,b):  \n",
    "    while(b):  \n",
    "        a, a = b, a % b  \n",
    "        return a     \n",
    "num = find_hcf(a, b) \n",
    "print(\"  The HCF of two number a and b is \")  \n",
    "print(num) "
   ]
  },
  {
   "cell_type": "code",
   "execution_count": 24,
   "id": "c2357dc1",
   "metadata": {},
   "outputs": [
    {
     "name": "stdout",
     "output_type": "stream",
     "text": [
      "Enter first number: 3\n",
      "Enter second number: 4\n",
      "The L.C.M. of 3 and 4 is 12\n"
     ]
    }
   ],
   "source": [
    "#Ques 3 Write a function to find LCM of two number in most optimizers way.\n",
    "def lcm(x, y):\n",
    "    if x > y:\n",
    "        greater = x  \n",
    "    else:\n",
    "        greater = y\n",
    "        while(True):  \n",
    "            if((greater % x == 0) and (greater % y == 0)):\n",
    "                lcm = greater  \n",
    "                break  \n",
    "            greater += 1\n",
    "        return lcm  \n",
    "  \n",
    "  \n",
    "num1 = int(input(\"Enter first number: \"))  \n",
    "num2 = int(input(\"Enter second number: \"))  \n",
    "print(\"The L.C.M. of\", num1,\"and\", num2,\"is\", lcm(num1, num2))  "
   ]
  }
 ],
 "metadata": {
  "kernelspec": {
   "display_name": "Python 3",
   "language": "python",
   "name": "python3"
  },
  "language_info": {
   "codemirror_mode": {
    "name": "ipython",
    "version": 3
   },
   "file_extension": ".py",
   "mimetype": "text/x-python",
   "name": "python",
   "nbconvert_exporter": "python",
   "pygments_lexer": "ipython3",
   "version": "3.8.8"
  }
 },
 "nbformat": 4,
 "nbformat_minor": 5
}
