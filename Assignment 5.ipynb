{
 "cells": [
  {
   "cell_type": "markdown",
   "id": "64c1c0e7",
   "metadata": {},
   "source": [
    "### Ques 1.Given a list of integers,write a function to return the sum of all prime numbers in that list"
   ]
  },
  {
   "cell_type": "code",
   "execution_count": 2,
   "id": "35e23dfd",
   "metadata": {},
   "outputs": [
    {
     "name": "stdout",
     "output_type": "stream",
     "text": [
      "1 3 5 7 9 6\n",
      "15\n"
     ]
    }
   ],
   "source": [
    "numbers=input(\"\").split(' ')\n",
    "sumPrimeNumbers=0\n",
    "for n in numbers:\n",
    "    n=int(n)\n",
    "    isPrime=True\n",
    "    if n > 1:\n",
    "    \n",
    "        for i in range(2, n):\n",
    "            if (n % i) == 0:\n",
    "                isPrime=False\n",
    "                break\n",
    "        if isPrime:\n",
    "            sumPrimeNumbers+=n\n",
    "\n",
    "\n",
    "print(str(sumPrimeNumbers))"
   ]
  },
  {
   "cell_type": "markdown",
   "id": "91630a31",
   "metadata": {},
   "source": [
    "### Ques 2 Given a list of integers,write a function to check whether the list is strictly increasing or not."
   ]
  },
  {
   "cell_type": "code",
   "execution_count": 4,
   "id": "776d6a2b",
   "metadata": {},
   "outputs": [
    {
     "name": "stdout",
     "output_type": "stream",
     "text": [
      "Original list : [1, 3, 5, 8, 9]\n",
      "Is list strictly increasing  : True\n"
     ]
    }
   ],
   "source": [
    "test_list = [1, 3, 5,8,9]\n",
    "\n",
    "print (\"Original list : \" + str(test_list))\n",
    "\n",
    "res = bool(lambda test_list: reduce(lambda i, j: j \n",
    "                if\n",
    "                i < j else 9999, test_list) != 9999)\n",
    "\n",
    "\n",
    "print (\"Is list strictly increasing  : \" + str(res))"
   ]
  },
  {
   "cell_type": "markdown",
   "id": "9e9b5d61",
   "metadata": {},
   "source": [
    "### Ques 3.Write a function ti check whether a given list is expanding or not."
   ]
  },
  {
   "cell_type": "code",
   "execution_count": 6,
   "id": "d557f827",
   "metadata": {},
   "outputs": [
    {
     "name": "stdout",
     "output_type": "stream",
     "text": [
      "intial_list [  3   7  88 115 225 445]\n",
      "difference list:  [  4  81  27 110 220]\n"
     ]
    }
   ],
   "source": [
    "import numpy as np\n",
    "ini_list = np.array([3, 7, 88, 115, 225, 445])\n",
    "print(\"intial_list\", str(ini_list))\n",
    "diff_list = np.diff(ini_list)\n",
    "print (\"difference list: \", str(diff_list))"
   ]
  },
  {
   "cell_type": "markdown",
   "id": "3e319d6b",
   "metadata": {},
   "source": [
    "### Ques 4.Write a function to calculate all permutations of a given string"
   ]
  },
  {
   "cell_type": "code",
   "execution_count": 7,
   "id": "ecec63b6",
   "metadata": {},
   "outputs": [
    {
     "name": "stdout",
     "output_type": "stream",
     "text": [
      "RAVS\n",
      "RASV\n",
      "RVAS\n",
      "RVSA\n",
      "RSVA\n",
      "RSAV\n",
      "ARVS\n",
      "ARSV\n",
      "AVRS\n",
      "AVSR\n",
      "ASVR\n",
      "ASRV\n",
      "VARS\n",
      "VASR\n",
      "VRAS\n",
      "VRSA\n",
      "VSRA\n",
      "VSAR\n",
      "SAVR\n",
      "SARV\n",
      "SVAR\n",
      "SVRA\n",
      "SRVA\n",
      "SRAV\n"
     ]
    }
   ],
   "source": [
    "def swap(ch, i, j):\n",
    "    temp = ch[i]\n",
    "    ch[i] = ch[j]\n",
    "    ch[j] = temp\n",
    "\n",
    "def permutations(ch, curr_index=0):\n",
    "\n",
    "    if curr_index == len(ch) - 1:\n",
    "        print(''.join(ch))\n",
    "\n",
    "    for i in range(curr_index, len(ch)):\n",
    "        swap(ch, curr_index, i)\n",
    "        permutations(ch, curr_index + 1)\n",
    "        swap(ch, curr_index, i)\n",
    "\n",
    "\n",
    "if __name__ == '__main__':\n",
    "\n",
    "    s = \"RAVS\"\n",
    "    permutations(list(s))\n"
   ]
  }
 ],
 "metadata": {
  "kernelspec": {
   "display_name": "Python 3",
   "language": "python",
   "name": "python3"
  },
  "language_info": {
   "codemirror_mode": {
    "name": "ipython",
    "version": 3
   },
   "file_extension": ".py",
   "mimetype": "text/x-python",
   "name": "python",
   "nbconvert_exporter": "python",
   "pygments_lexer": "ipython3",
   "version": "3.8.8"
  }
 },
 "nbformat": 4,
 "nbformat_minor": 5
}
